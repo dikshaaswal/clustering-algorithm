{
  "nbformat": 4,
  "nbformat_minor": 0,
  "metadata": {
    "colab": {
      "name": "clustering algorithm.ipynb",
      "provenance": [],
      "collapsed_sections": []
    },
    "kernelspec": {
      "name": "python3",
      "display_name": "Python 3"
    },
    "accelerator": "GPU"
  },
  "cells": [
    {
      "cell_type": "code",
      "metadata": {
        "id": "s5YGovKwjKIQ",
        "colab_type": "code",
        "colab": {}
      },
      "source": [
        "import numpy as numpy\n",
        "import scipy as scipy\n",
        "import pandas as pd\n",
        "from sklearn import cluster\n",
        "import matplotlib.pyplot as plt\n",
        "import io\n",
        "import time"
      ],
      "execution_count": 0,
      "outputs": []
    },
    {
      "cell_type": "code",
      "metadata": {
        "id": "yyC3OAyw5RKm",
        "colab_type": "code",
        "colab": {}
      },
      "source": [
        "#converts a numpy array to a list\n",
        "def set_to_list(numpy_array):\n",
        "\tList = []\n",
        "\tfor item in numpy_array:\n",
        "\t\tList.append(item.tolist())\n",
        "\treturn List"
      ],
      "execution_count": 0,
      "outputs": []
    },
    {
      "cell_type": "code",
      "metadata": {
        "id": "JUoIHaJMNJHg",
        "colab_type": "code",
        "colab": {}
      },
      "source": [
        "#generate datasets\n",
        "def GenerateData(uploaded):\n",
        " \t\n",
        "\tdf2 = pd.read_csv(io.BytesIO(uploaded['dataset.csv']))\n",
        "\t#print(df2)\n",
        "\tdf2 = df2.drop(['y'], axis = 1)\n",
        "\tdf2 = numpy.asarray(df2)\n",
        "\t# x1=numpy.random.randn(50,2)\n",
        "\t# x2x=numpy.random.randn(80,1)+12\n",
        "\t# x2y=numpy.random.randn(80,1)\n",
        "\t# x2=numpy.column_stack((x2x,x2y))\n",
        "\t# x3=numpy.random.randn(100,2)+8\n",
        "\t# x4=numpy.random.randn(120,2)+15\n",
        "\t# z=numpy.concatenate((x1,x2,x3,x4))\n",
        "\treturn df2"
      ],
      "execution_count": 0,
      "outputs": []
    },
    {
      "cell_type": "code",
      "metadata": {
        "id": "DCJP5UZ1ZQp4",
        "colab_type": "code",
        "colab": {}
      },
      "source": [
        "def expandCluster(PointToExpand, PointNeighbors,Cluster,MinPts,eps,Visited,DistanceMatrix,PointClusterNumber,PointClusterNumberIndex  ):\n",
        "  Neighbors=[]\n",
        "  #print(len(PointNeighbors))\n",
        "  #print(len(Visited))\n",
        "  #k=0\n",
        "  #print(DistanceMatrix)\n",
        "  for i in PointNeighbors:\n",
        "    #print(i)\n",
        "    #print(PointNeighbors)\n",
        "    if Visited[i]==0:\n",
        "      #print(k)\n",
        "      \n",
        "      #k = k + 1\n",
        "      #print(Visited[i])\n",
        "      #print(\"--\")\n",
        "      Visited[i]=1\n",
        "      Neighbors=numpy.where(DistanceMatrix[i]<=eps)[0]\n",
        "      if len(Neighbors)>=MinPts:\n",
        "\n",
        "        # Neighbors merge with PointNeighbors\n",
        "        for j in Neighbors:\n",
        "            #print(j)\n",
        "            try:\n",
        "              PointNeighbors.index(j)\n",
        "            except ValueError:\n",
        "              PointNeighbors.append(j)\n",
        "\n",
        "    if PointClusterNumber[i]==0:\n",
        "      Cluster.append(i)\n",
        "      PointClusterNumber[i]=PointClusterNumberIndex\n",
        "  \n",
        "  return"
      ],
      "execution_count": 0,
      "outputs": []
    },
    {
      "cell_type": "code",
      "metadata": {
        "id": "IeWm2rQ8gaS3",
        "colab_type": "code",
        "colab": {}
      },
      "source": [
        "def partition(Data):\n",
        "  part1 = []\n",
        "  part2 = []\n",
        "  part3 = []\n",
        "  for i in range(len(Data)):\n",
        "    if Data[i][0] <= 400:\n",
        "      part1.append(Data[i])\n",
        "    if Data[i][0] >= 300 and Data[i][0] <= 800:\n",
        "      part2.append(Data[i])\n",
        "    if Data[i][0] >= 700:\n",
        "      part3.append(Data[i])\n",
        "  \n",
        "  return part1, part2, part3"
      ],
      "execution_count": 0,
      "outputs": []
    },
    {
      "cell_type": "code",
      "metadata": {
        "id": "LwLBtZxvOQp8",
        "colab_type": "code",
        "colab": {}
      },
      "source": [
        "def DBSCAN(dataset, eps,MinPts, Boundary_info, local_points_info, partition_no,threadName,delay, DistanceMethod = 'euclidean'):\n",
        "  \n",
        "  m,n=dataset.shape\n",
        "  Visited=numpy.zeros(m,'int')\n",
        "  Type=numpy.zeros(m)\n",
        "  ClustersList=[]\n",
        "  Cluster=[]\n",
        "  PointClusterNumber = numpy.zeros(m)\n",
        "  PointClusterNumberIndex = 1\n",
        "  PointNeighbors=[]\n",
        "  k = 0\n",
        "  DistanceMatrix = scipy.spatial.distance.squareform(scipy.spatial.distance.pdist(dataset, DistanceMethod))\n",
        "\n",
        "  \n",
        "  #print(DistanceMatrix.shape)\n",
        "  for i in range(m):\n",
        "\n",
        "    if Visited[i]==0:\n",
        "      Visited[i]=1\n",
        "      PointNeighbors = numpy.where(DistanceMatrix[i]<eps)[0]\n",
        "      #print(len(PointNeighbors))\n",
        "      if len(PointNeighbors)<MinPts:\n",
        "        Type[i]=-1              # boundary points\n",
        "      else:\n",
        "        for k in range(len(Cluster)):\n",
        "          Cluster.pop()\n",
        "        Cluster.append(i)\n",
        "        PointClusterNumber[i]=PointClusterNumberIndex\n",
        "        #print(len(PointNeighbors))\n",
        "        PointNeighbors=list(PointNeighbors)\n",
        "        expandCluster(dataset[i],PointNeighbors,Cluster,MinPts,eps,Visited,DistanceMatrix,PointClusterNumber,PointClusterNumberIndex)\n",
        "        # print(Cluster)\n",
        "        # print(\"/////////\")\n",
        "        # print(PointNeighbors)\n",
        "        Cluster.append(PointNeighbors[:])\n",
        "        ClustersList.append(Cluster[:])\n",
        "        #print(ClustersList)\n",
        "        PointClusterNumberIndex=PointClusterNumberIndex+1\n",
        "        #print(\"-------\")\n",
        "\n",
        "    bound = [[0,0],0,False,0,0]\n",
        "    bound[0] = dataset[i]\n",
        "    bound[1] = partition_no\n",
        "    if Type[i] == 0:\n",
        "      bound[2] = True\n",
        "    bound[3] = PointClusterNumber[i]\n",
        "\n",
        "    if contains(dataset[i], B_1):\n",
        "      bound[4] = 1\n",
        "      Boundary_info.append(bound)\n",
        "    elif contains(dataset[i], B_2):\n",
        "      bound[4] = 2\n",
        "      Boundary_info.append(bound)\n",
        "    else:\n",
        "      bound[4] = -1\n",
        "      local_points_info.append(bound)\n",
        "\n",
        "  count = 0\n",
        "  while count < 5:\n",
        "    time.sleep(delay)\n",
        "    count += 1\n",
        "    print (\"%s: %s\" % ( threadName, time.ctime(time.time()) ))\n",
        "  return PointClusterNumber"
      ],
      "execution_count": 0,
      "outputs": []
    },
    {
      "cell_type": "code",
      "metadata": {
        "id": "kvt-KgnkhmH_",
        "colab_type": "code",
        "colab": {}
      },
      "source": [
        "def Reduce_Phase(Boundary_info, local_points_info, B1_min_dist, B2_min_dist):\n",
        "  for i in range(len(Boundary_info)):\n",
        "    for j in range(i+1, len(Boundary_info)):\n",
        "      if Boundary_info[i][0][0] == Boundary_info[j][0][0] and Boundary_info[i][0][1] == Boundary_info[j][0][1]:\n",
        "        Boundary_info[i][2] = Boundary_info[j][2] = Boundary_info[i][2] or Boundary_info[j][2]\n",
        "\n",
        "        if Boundary_info[i][2] == False:\n",
        "          ind = -1\n",
        "\n",
        "          for k in range(len(B1_min_dist)):\n",
        "            if B1_min_dist[k][2][0] == Boundary_info[i][0][0] and B1_min_dist[k][2][1] == Boundary_info[i][0][1]:\n",
        "              ind = k\n",
        "              x = B1_min_dist[k][1][0]\n",
        "              y = B1_min_dist[k][1][1]\n",
        "\n",
        "          for k in range(len(B2_min_dist)):\n",
        "            if B2_min_dist[k][2][0] == Boundary_info[i][0][0] and B2_min_dist[k][2][1] == Boundary_info[i][0][1]:\n",
        "              ind = k          \n",
        "              x = B2_min_dist[k][1][0]\n",
        "              y = B2_min_dist[k][1][1]\n",
        "          \n",
        "          for k in range(len(local_points_info)):\n",
        "            if x == local_points_info[k][0][0] and y == local_points_info[k][0][1]:\n",
        "              Boundary_info[i][1] = local_points_info[k][1]  #partition number\n",
        "              Boundary_info[i][3] = local_points_info[k][3]  #Cluster number\n",
        "              Boundary_info[j][1] = local_points_info[k][1]  #partition number\n",
        "              Boundary_info[j][3] = local_points_info[k][3]  #Cluster number\n",
        "\n",
        "  return Boundary_info"
      ],
      "execution_count": 0,
      "outputs": []
    },
    {
      "cell_type": "code",
      "metadata": {
        "id": "E_EaD120KLWz",
        "colab_type": "code",
        "colab": {}
      },
      "source": [
        "def contains(point, B):\n",
        "    for bt in B:\n",
        "        if bt[0] == point[0] and bt[1] == point[1]:\n",
        "          return True\n",
        "    return False"
      ],
      "execution_count": 0,
      "outputs": []
    },
    {
      "cell_type": "code",
      "metadata": {
        "id": "p6tq36YrN9ds",
        "colab_type": "code",
        "colab": {}
      },
      "source": [
        "def intersection(lst1, lst2): \n",
        "    lst3 = [value for value in lst1 if value in lst2] \n",
        "    return len(lst3)"
      ],
      "execution_count": 0,
      "outputs": []
    },
    {
      "cell_type": "code",
      "metadata": {
        "id": "Vlk1kHTnPcJa",
        "colab_type": "code",
        "colab": {}
      },
      "source": [
        "def Union(lst1, lst2): \n",
        "    final_list = list(set(lst1) | set(lst2)) \n",
        "    return final_list "
      ],
      "execution_count": 0,
      "outputs": []
    },
    {
      "cell_type": "code",
      "metadata": {
        "id": "judfMRun9o9s",
        "colab_type": "code",
        "colab": {}
      },
      "source": [
        "# Boundary Info : boundary point, partition number, isCore, cluster Number, Boundary Number\n",
        "def Merge_Phase(Boundary_info):\n",
        "  final_list = []\n",
        "  visited = numpy.full(len(Boundary_info), False, dtype=bool)\n",
        "\n",
        "  for i in range(len(Boundary_info)):\n",
        "    if visited[i] == True:\n",
        "      continue\n",
        "\n",
        "    merged_points = []\n",
        "    code = \"P\" + str(Boundary_info[i][1]) + \"C\" + str(Boundary_info[i][3])\n",
        "    \n",
        "    if Boundary_info[i][2] == True:\n",
        "      merged_points.append(code)\n",
        "  \n",
        "    for j in range(i+1, len(Boundary_info)):\n",
        "      code = \"\"\n",
        "      if Boundary_info[i][0][0] == Boundary_info[j][0][0] and Boundary_info[i][0][1] == Boundary_info[j][0][1] and Boundary_info[j][2] == True:\n",
        "        code = \"P\" + str(Boundary_info[j][1]) + \"C\" + str(Boundary_info[j][3])\n",
        "        merged_points.append(code)\n",
        "        visited[j] = True  \n",
        "    \n",
        "    if len(merged_points) != 0:\n",
        "      #merged_points = [merged_points, Boundary_info[i][0][0], Boundary_info[i][0][1]]\n",
        "      final_list.append(merged_points)\n",
        "\n",
        "  merged = numpy.full(len(final_list), True, dtype=bool)\n",
        "\n",
        "  for i in range(len(final_list)):\n",
        "    if merged[i] == True:\n",
        "      for j in range(i+1, len(final_list)):\n",
        "        if merged[j] == True:\n",
        "          if intersection(final_list[i], final_list[j]) > 0:\n",
        "            merged[j] = False\n",
        "            final_list[i] = Union(final_list[i], final_list[j])\n",
        "\n",
        "  final = [] \n",
        "  for i in range(len(final_list)):\n",
        "    if merged[i] == True:\n",
        "      final.append(final_list[i])\n",
        "  \n",
        "  return final\n",
        "    "
      ],
      "execution_count": 0,
      "outputs": []
    },
    {
      "cell_type": "code",
      "metadata": {
        "id": "NJjnzFgo5h_b",
        "colab_type": "code",
        "colab": {}
      },
      "source": [
        "def Relabel_phase(Boundary_info, local_points_info, dicti):\n",
        "  df1 = pd.DataFrame(Boundary_info) \n",
        "  df2 = pd.DataFrame(local_points_info) \n",
        "  frame = [df1, df2]\n",
        "  df = pd.concat(frame)\n",
        "  df = df.drop([2, 4], axis=1)\n",
        "  df = np.asarray(df)\n",
        "  #print(df)\n",
        "  for i in range(len(df)):\n",
        "    code = \"P\" + str(df[i][1]) + \"C\" + str(df[i][2])\n",
        "    #print(code)\n",
        "    if code in dicti.keys(): \n",
        "      df[i][2] = dicti[code]\n",
        "  #print(df.shape)\n",
        "\n",
        "  return df"
      ],
      "execution_count": 0,
      "outputs": []
    },
    {
      "cell_type": "code",
      "metadata": {
        "id": "ZxOyPBk1K30O",
        "colab_type": "code",
        "colab": {}
      },
      "source": [
        "def dictonary(merged_list):\n",
        "  dicti = dict()\n",
        "  label = 10\n",
        "  for i in range(len(merged_list)):\n",
        "    for key in merged_list[i]:\n",
        "      dicti[key] = label\n",
        "    label = label + 1\n",
        "  #print(dicti)\n",
        "\n",
        "  return dicti"
      ],
      "execution_count": 0,
      "outputs": []
    },
    {
      "cell_type": "code",
      "metadata": {
        "id": "QRLD50NrTdl-",
        "colab_type": "code",
        "outputId": "e7b0c788-2e88-4595-f41a-a762efaecfcc",
        "colab": {
          "resources": {
            "http://localhost:8080/nbextensions/google.colab/files.js": {
              "data": "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",
              "ok": true,
              "headers": [
                [
                  "content-type",
                  "application/javascript"
                ]
              ],
              "status": 200,
              "status_text": "OK"
            }
          },
          "base_uri": "https://localhost:8080/",
          "height": 48
        }
      },
      "source": [
        "from google.colab import files\n",
        "uploaded = files.upload()"
      ],
      "execution_count": 0,
      "outputs": [
        {
          "output_type": "display_data",
          "data": {
            "text/html": [
              "\n",
              "     <input type=\"file\" id=\"files-1b194489-fd5e-410c-ab83-13b6eb484231\" name=\"files[]\" multiple disabled />\n",
              "     <output id=\"result-1b194489-fd5e-410c-ab83-13b6eb484231\">\n",
              "      Upload widget is only available when the cell has been executed in the\n",
              "      current browser session. Please rerun this cell to enable.\n",
              "      </output>\n",
              "      <script src=\"/nbextensions/google.colab/files.js\"></script> "
            ],
            "text/plain": [
              "<IPython.core.display.HTML object>"
            ]
          },
          "metadata": {
            "tags": []
          }
        }
      ]
    },
    {
      "cell_type": "code",
      "metadata": {
        "id": "RdwvWhlkNMEq",
        "colab_type": "code",
        "outputId": "9c4ca650-8e4f-4716-f36e-6e23f0bc3ee1",
        "colab": {
          "base_uri": "https://localhost:8080/",
          "height": 289
        }
      },
      "source": [
        "Data=GenerateData(uploaded)"
      ],
      "execution_count": 0,
      "outputs": [
        {
          "output_type": "error",
          "ename": "KeyError",
          "evalue": "ignored",
          "traceback": [
            "\u001b[0;31m---------------------------------------------------------------------------\u001b[0m",
            "\u001b[0;31mKeyError\u001b[0m                                  Traceback (most recent call last)",
            "\u001b[0;32m<ipython-input-15-ed6979fab893>\u001b[0m in \u001b[0;36m<module>\u001b[0;34m()\u001b[0m\n\u001b[0;32m----> 1\u001b[0;31m \u001b[0mData\u001b[0m\u001b[0;34m=\u001b[0m\u001b[0mGenerateData\u001b[0m\u001b[0;34m(\u001b[0m\u001b[0muploaded\u001b[0m\u001b[0;34m)\u001b[0m\u001b[0;34m\u001b[0m\u001b[0;34m\u001b[0m\u001b[0m\n\u001b[0m",
            "\u001b[0;32m<ipython-input-3-263a59ebe026>\u001b[0m in \u001b[0;36mGenerateData\u001b[0;34m(uploaded)\u001b[0m\n\u001b[1;32m      2\u001b[0m \u001b[0;32mdef\u001b[0m \u001b[0mGenerateData\u001b[0m\u001b[0;34m(\u001b[0m\u001b[0muploaded\u001b[0m\u001b[0;34m)\u001b[0m\u001b[0;34m:\u001b[0m\u001b[0;34m\u001b[0m\u001b[0;34m\u001b[0m\u001b[0m\n\u001b[1;32m      3\u001b[0m \u001b[0;34m\u001b[0m\u001b[0m\n\u001b[0;32m----> 4\u001b[0;31m         \u001b[0mdf2\u001b[0m \u001b[0;34m=\u001b[0m \u001b[0mpd\u001b[0m\u001b[0;34m.\u001b[0m\u001b[0mread_csv\u001b[0m\u001b[0;34m(\u001b[0m\u001b[0mio\u001b[0m\u001b[0;34m.\u001b[0m\u001b[0mBytesIO\u001b[0m\u001b[0;34m(\u001b[0m\u001b[0muploaded\u001b[0m\u001b[0;34m[\u001b[0m\u001b[0;34m'dataset.csv'\u001b[0m\u001b[0;34m]\u001b[0m\u001b[0;34m)\u001b[0m\u001b[0;34m)\u001b[0m\u001b[0;34m\u001b[0m\u001b[0;34m\u001b[0m\u001b[0m\n\u001b[0m\u001b[1;32m      5\u001b[0m         \u001b[0;31m#print(df2)\u001b[0m\u001b[0;34m\u001b[0m\u001b[0;34m\u001b[0m\u001b[0;34m\u001b[0m\u001b[0m\n\u001b[1;32m      6\u001b[0m         \u001b[0mdf2\u001b[0m \u001b[0;34m=\u001b[0m \u001b[0mdf2\u001b[0m\u001b[0;34m.\u001b[0m\u001b[0mdrop\u001b[0m\u001b[0;34m(\u001b[0m\u001b[0;34m[\u001b[0m\u001b[0;34m'y'\u001b[0m\u001b[0;34m]\u001b[0m\u001b[0;34m,\u001b[0m \u001b[0maxis\u001b[0m \u001b[0;34m=\u001b[0m \u001b[0;36m1\u001b[0m\u001b[0;34m)\u001b[0m\u001b[0;34m\u001b[0m\u001b[0;34m\u001b[0m\u001b[0m\n",
            "\u001b[0;31mKeyError\u001b[0m: 'dataset.csv'"
          ]
        }
      ]
    },
    {
      "cell_type": "code",
      "metadata": {
        "id": "o4q_e5kqTORg",
        "colab_type": "code",
        "colab": {}
      },
      "source": [
        "Data"
      ],
      "execution_count": 0,
      "outputs": []
    },
    {
      "cell_type": "code",
      "metadata": {
        "id": "QQ7qo5UqNOdX",
        "colab_type": "code",
        "colab": {}
      },
      "source": [
        "import numpy as np\n",
        "import matplotlib.pyplot as plt\n",
        "import scipy.stats as st\n",
        "#from sklearn.datasets.samples_generator import make_blobsn_components = 3\n",
        "#plt.scatter(Noisy_Data[:, 0], Noisy_Data[:, 1])\n",
        "plt.scatter(Data[:, 0], Data[:, 1])\n",
        "plt.xlabel(\"alpha\")\n",
        "plt.ylabel(\"beta\");"
      ],
      "execution_count": 0,
      "outputs": []
    },
    {
      "cell_type": "code",
      "metadata": {
        "id": "JMf9Pfc-J7e7",
        "colab_type": "code",
        "colab": {}
      },
      "source": [
        "part1, part2, part3 = partition(Data)\n",
        "part1 = numpy.asarray(part1)\n",
        "#print(part1)\n",
        "part2 = numpy.asarray(part2)\n",
        "# print(\"--------\")\n",
        "# print(part2)\n",
        "part3 = numpy.asarray(part3)\n",
        "# print(\"-------\")\n",
        "# print(part3)"
      ],
      "execution_count": 0,
      "outputs": []
    },
    {
      "cell_type": "code",
      "metadata": {
        "id": "ii7epGsHNYmX",
        "colab_type": "code",
        "colab": {}
      },
      "source": [
        "noise=scipy.rand(50,2)*20 -3"
      ],
      "execution_count": 0,
      "outputs": []
    },
    {
      "cell_type": "code",
      "metadata": {
        "id": "XlgvGv6XNYvs",
        "colab_type": "code",
        "colab": {}
      },
      "source": [
        "noise.shape"
      ],
      "execution_count": 0,
      "outputs": []
    },
    {
      "cell_type": "code",
      "metadata": {
        "id": "Lc0zHFvBNY5C",
        "colab_type": "code",
        "colab": {}
      },
      "source": [
        "Noisy_Data=numpy.concatenate((Data,noise))\n",
        "size=20"
      ],
      "execution_count": 0,
      "outputs": []
    },
    {
      "cell_type": "code",
      "metadata": {
        "id": "wLmJS5bJNZD7",
        "colab_type": "code",
        "colab": {}
      },
      "source": [
        "Noisy_Data.shape"
      ],
      "execution_count": 0,
      "outputs": []
    },
    {
      "cell_type": "code",
      "metadata": {
        "id": "P13uPI0RQN8g",
        "colab_type": "code",
        "colab": {}
      },
      "source": [
        "B_1 = []\n",
        "B_2 = []\n",
        "B_3 = []\n",
        "for data_point in part1:\n",
        "  if data_point[0] >= 300 and data_point[0] <= 400:\n",
        "    #print(data_point)\n",
        "    B_1.append(data_point)\n",
        "for data_point in part2:\n",
        "  if data_point[0] >= 700 and data_point[0] <= 800:\n",
        "    B_2.append(data_point)\n",
        "#print(B_1)\n",
        "#print(B_2)\n",
        "import numpy as np\n",
        "import matplotlib.pyplot as plt\n",
        "import scipy.stats as st \n",
        "\n",
        "A_1 = np.asarray(B_2)\n",
        "#plt.scatter(A_1[:, 0], A_1[:, 1])\n",
        "plt.scatter(A_1[:, 0], A_1[:, 1],c='r')\n",
        "plt.xlabel(\"x\")\n",
        "plt.ylabel(\"y\");"
      ],
      "execution_count": 0,
      "outputs": []
    },
    {
      "cell_type": "code",
      "metadata": {
        "id": "HMsC8kA0ax53",
        "colab_type": "code",
        "colab": {}
      },
      "source": [
        "#Nearest neighbours of boundary points\n",
        "B1_min_dist = []\n",
        "for b in B_1:\n",
        "  min_dist = [99999,[0,0],[b[0],b[1]]]  #struct: min distance, nearsest datapoint, boundary point\n",
        "  for datapoint in Data:\n",
        "    if not contains(datapoint, B_1):\n",
        "      euclidean_distance = np.sqrt( (datapoint[0]-b[0])**2 + (datapoint[1]-b[1])**2 )\n",
        "      if min_dist[0] > euclidean_distance:\n",
        "        min_dist[0] = euclidean_distance\n",
        "        min_dist[1][0] = datapoint[0]\n",
        "        min_dist[1][0] = datapoint[1]\n",
        "  \n",
        "  B1_min_dist.append(min_dist)\n",
        "\n",
        "B2_min_dist = []\n",
        "for b in B_2:\n",
        "  min_dist = [99999,[0,0],[b[0],b[1]]]\n",
        "  for datapoint in Data:\n",
        "    if not contains(datapoint, B_2):\n",
        "      euclidean_distance = np.sqrt( (datapoint[0]-b[0])**2 + (datapoint[1]-b[1])**2 )\n",
        "      if min_dist[0] > euclidean_distance:\n",
        "        min_dist[0] = euclidean_distance\n",
        "        min_dist[1][0] = datapoint[0]\n",
        "        min_dist[1][0] = datapoint[1]\n",
        "  \n",
        "  B2_min_dist.append(min_dist)"
      ],
      "execution_count": 0,
      "outputs": []
    },
    {
      "cell_type": "code",
      "metadata": {
        "id": "m_EBk2ZsUbQi",
        "colab_type": "code",
        "colab": {}
      },
      "source": [
        "#print(B1_min_dist)"
      ],
      "execution_count": 0,
      "outputs": []
    },
    {
      "cell_type": "code",
      "metadata": {
        "id": "rX3zjtYhYXmJ",
        "colab_type": "code",
        "colab": {}
      },
      "source": [
        "#result =DBSCAN(Noisy_Data,Epsilon,MinumumPoints)\n",
        "# Boundary Info : boundary point, partition number, isCore, cluster Number, Boundary Number\n",
        "Epsilon=50\n",
        "MinumumPoints=8\n",
        "\n",
        "Boundary_info = []\n",
        "local_points_info = []\n",
        "result1 =DBSCAN(part1,Epsilon,MinumumPoints,Boundary_info,local_points_info,1)\n",
        "#print(result1)\n",
        "#axt = Boundary_info\n",
        "print(len(Boundary_info), Boundary_info)\n",
        "result2 =DBSCAN(part2,Epsilon,MinumumPoints,Boundary_info,local_points_info,2)\n",
        "#print(result2)\n",
        "#print(\"-----------------\")\n",
        "#print(len(Boundary_info), Boundary_info)\n",
        "result3 =DBSCAN(part3,Epsilon,MinumumPoints,Boundary_info,local_points_info,3)\n",
        "#print(result3)\n",
        "#print(\"--------------\")\n",
        "#print(len(Boundary_info), Boundary_info)"
      ],
      "execution_count": 0,
      "outputs": []
    },
    {
      "cell_type": "code",
      "metadata": {
        "id": "rcvdAEOKa97v",
        "colab_type": "code",
        "colab": {}
      },
      "source": [
        "import threading\n",
        "\n",
        "Boundary_info = []\n",
        "local_points_info = []\n",
        "\n",
        "t1 = threading.Thread( target=DBSCAN, args=(part1,Epsilon,MinumumPoints,Boundary_info,local_points_info,1,\"Thread-1\",10, ))\n",
        "t2 = threading.Thread( target=DBSCAN, args=(part2,Epsilon,MinumumPoints,Boundary_info,local_points_info,2,\"Thread-2\",15, ))\n",
        "t3 = threading.Thread( target=DBSCAN, args=(part3,Epsilon,MinumumPoints,Boundary_info,local_points_info,3,\"Thread-3\",20, ))\n",
        "#t2 = threading.Thread( DBSCAN, (part2,Epsilon,MinumumPoints,Boundary_info,local_points_info,2, ))\n",
        "# starting thread 1 \n",
        "t1.start() \n",
        "t2.start() \n",
        "t3.start() \n",
        "t1.join()\n",
        "t2.join()\n",
        "t3.join()"
      ],
      "execution_count": 0,
      "outputs": []
    },
    {
      "cell_type": "code",
      "metadata": {
        "id": "AnrVDYT2o9AG",
        "colab_type": "code",
        "colab": {}
      },
      "source": [
        "Boundary_info = Reduce_Phase(Boundary_info, local_points_info, B1_min_dist, B2_min_dist)\n",
        "print(Boundary_info)"
      ],
      "execution_count": 0,
      "outputs": []
    },
    {
      "cell_type": "code",
      "metadata": {
        "id": "3gvMIFuj7AFk",
        "colab_type": "code",
        "colab": {}
      },
      "source": [
        "merged_list = Merge_Phase(Boundary_info)\n",
        "merged_list"
      ],
      "execution_count": 0,
      "outputs": []
    },
    {
      "cell_type": "code",
      "metadata": {
        "id": "L9niDfPBzh4Q",
        "colab_type": "code",
        "colab": {}
      },
      "source": [
        "dicti = dictonary(merged_list)"
      ],
      "execution_count": 0,
      "outputs": []
    },
    {
      "cell_type": "code",
      "metadata": {
        "id": "TPl5IlBqzh2B",
        "colab_type": "code",
        "colab": {}
      },
      "source": [
        "global_info = Relabel_phase(Boundary_info, local_points_info, dicti)"
      ],
      "execution_count": 0,
      "outputs": []
    },
    {
      "cell_type": "code",
      "metadata": {
        "id": "wx9fT4M6zhwe",
        "colab_type": "code",
        "colab": {}
      },
      "source": [
        "for i in range(len(global_info)):\n",
        "  if global_info[i][2] < 10:\n",
        "    print(global_info[i])"
      ],
      "execution_count": 0,
      "outputs": []
    },
    {
      "cell_type": "code",
      "metadata": {
        "id": "SH1D5xeBa3Ny",
        "colab_type": "code",
        "colab": {}
      },
      "source": [
        "import numpy as np\n",
        "import matplotlib.pyplot as plt\n",
        "import scipy.stats as st\n",
        "#from sklearn.datasets.samples_generator import make_blobsn_components = 3\n",
        "#plt.scatter(Noisy_Data[:, 0], Noisy_Data[:, 1])\n",
        "points = []\n",
        "for i in range(len(global_info)):\n",
        "  points.append(global_info[i][0])\n",
        "\n",
        "x = np.asarray(points)\n",
        "LABEL_COLOR_MAP = {10 : 'r',\n",
        "                   11 : 'k',\n",
        "                   12 : 'b',\n",
        "                   1.0 : 'g',\n",
        "                   0.0 : 'm'\n",
        "                   }\n",
        "label_color = []\n",
        "for i in range(len(global_info)):\n",
        "   label_color.append(LABEL_COLOR_MAP[global_info[i][2]])\n",
        "\n",
        "plt.scatter(x[:, 0], x[:, 1], c=label_color)\n",
        "plt.xlabel(\"x\")\n",
        "plt.ylabel(\"y\");"
      ],
      "execution_count": 0,
      "outputs": []
    },
    {
      "cell_type": "code",
      "metadata": {
        "id": "9kqAnPy-F0qg",
        "colab_type": "code",
        "colab": {}
      },
      "source": [
        "queue = []\n",
        "for i in range(len(global_info)):\n",
        "  flag = 1\n",
        "  for j in range(i+1, len(global_info)):\n",
        "    if global_info[i][0][0] == global_info[j][0][0] and global_info[i][0][1] == global_info[j][0][1]:\n",
        "      flag = 0\n",
        "      break\n",
        "  if flag != 0:\n",
        "    queue.append(global_info[i])"
      ],
      "execution_count": 0,
      "outputs": []
    },
    {
      "cell_type": "code",
      "metadata": {
        "id": "6y9_tcRHgd5d",
        "colab_type": "code",
        "colab": {}
      },
      "source": [
        ""
      ],
      "execution_count": 0,
      "outputs": []
    }
  ]
}